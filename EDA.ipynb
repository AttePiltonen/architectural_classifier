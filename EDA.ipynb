{
 "cells": [
  {
   "cell_type": "markdown",
   "id": "30c0837a",
   "metadata": {},
   "source": [
    "## Exploratory Data Analysis\n"
   ]
  },
  {
   "cell_type": "markdown",
   "id": "c0d7f842",
   "metadata": {},
   "source": [
    "Before creating a classification algorithm, it is essential to understand the dataset better."
   ]
  },
  {
   "cell_type": "code",
   "execution_count": 7,
   "id": "44327a80",
   "metadata": {},
   "outputs": [
    {
     "name": "stdout",
     "output_type": "stream",
     "text": [
      "\u001b[34mAchaemenid architecture\u001b[m\u001b[m          \u001b[34mEdwardian architecture\u001b[m\u001b[m\r\n",
      "\u001b[34mAmerican Foursquare architecture\u001b[m\u001b[m \u001b[34mGeorgian architecture\u001b[m\u001b[m\r\n",
      "\u001b[34mAmerican craftsman style\u001b[m\u001b[m         \u001b[34mGothic architecture\u001b[m\u001b[m\r\n",
      "\u001b[34mAncient Egyptian architecture\u001b[m\u001b[m    \u001b[34mGreek Revival architecture\u001b[m\u001b[m\r\n",
      "\u001b[34mArt Deco architecture\u001b[m\u001b[m            \u001b[34mInternational style\u001b[m\u001b[m\r\n",
      "\u001b[34mArt Nouveau architecture\u001b[m\u001b[m         \u001b[34mNovelty architecture\u001b[m\u001b[m\r\n",
      "\u001b[34mBaroque architecture\u001b[m\u001b[m             \u001b[34mPalladian architecture\u001b[m\u001b[m\r\n",
      "\u001b[34mBauhaus architecture\u001b[m\u001b[m             \u001b[34mPostmodern architecture\u001b[m\u001b[m\r\n",
      "\u001b[34mBeaux-Arts architecture\u001b[m\u001b[m          \u001b[34mQueen Anne architecture\u001b[m\u001b[m\r\n",
      "\u001b[34mByzantine architecture\u001b[m\u001b[m           \u001b[34mRomanesque architecture\u001b[m\u001b[m\r\n",
      "\u001b[34mChicago school architecture\u001b[m\u001b[m      \u001b[34mRussian Revival architecture\u001b[m\u001b[m\r\n",
      "\u001b[34mColonial architecture\u001b[m\u001b[m            \u001b[34mTudor Revival architecture\u001b[m\u001b[m\r\n",
      "\u001b[34mDeconstructivism\u001b[m\u001b[m\r\n"
     ]
    }
   ],
   "source": [
    "!ls"
   ]
  },
  {
   "cell_type": "code",
   "execution_count": null,
   "id": "56df5502",
   "metadata": {},
   "outputs": [],
   "source": []
  }
 ],
 "metadata": {
  "kernelspec": {
   "display_name": "Python 3 (ipykernel)",
   "language": "python",
   "name": "python3"
  },
  "language_info": {
   "codemirror_mode": {
    "name": "ipython",
    "version": 3
   },
   "file_extension": ".py",
   "mimetype": "text/x-python",
   "name": "python",
   "nbconvert_exporter": "python",
   "pygments_lexer": "ipython3",
   "version": "3.10.10"
  }
 },
 "nbformat": 4,
 "nbformat_minor": 5
}
