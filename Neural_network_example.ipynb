{
 "cells": [
  {
   "cell_type": "markdown",
   "id": "a9464f59",
   "metadata": {},
   "source": [
    "## Neural Network Classifier\n",
    "\n",
    "As a first go, let's create a simple neural network to see how well a traditional single-layer network performs. I will code this from scratch, using only the NumPy library to create the network functions and CV2 for image processing. Note that for image classification this is not the recommended approach, since convolutional neural networks (CNNs) usually outperform traditional neural networks in this context. However, coding this from scratch may be an interesting exercise, and will help us understand why CNNs are a better choice. "
   ]
  },
  {
   "cell_type": "code",
   "execution_count": 2,
   "id": "b23a431a",
   "metadata": {},
   "outputs": [],
   "source": [
    "import os\n",
    "import cv2\n",
    "import numpy as np"
   ]
  },
  {
   "cell_type": "markdown",
   "id": "5ee6394e",
   "metadata": {},
   "source": [
    "To create a neural network, we will define a class which will contain the different functions required, as well as the structure of the network. As a way of keeping things simple, the input image will first go through a hidden neuron layer with a sigmoid activation function. After this, the output layer will take the hidden layer output and use a softmax activation function to output probabilities of the image belonging to each of the classes."
   ]
  },
  {
   "cell_type": "code",
   "execution_count": 3,
   "id": "07c07b34",
   "metadata": {},
   "outputs": [],
   "source": [
    "class NeuralNetwork:\n",
    "    def __init__(self, input_size, hidden_size, output_size):\n",
    "        self.input_size = input_size\n",
    "        self.hidden_size = hidden_size\n",
    "        self.output_size = output_size\n",
    "\n",
    "        # Xavier/Glorot Initialization for weights of the hidden layer\n",
    "        self.W1 = np.random.randn(hidden_size, input_size) * np.sqrt(2.0 / (input_size + hidden_size))\n",
    "        self.b1 = np.zeros((hidden_size, 1))\n",
    "        self.W2 = np.random.randn(output_size, hidden_size)\n",
    "        self.b2 = np.zeros((output_size, 1))\n"
   ]
  },
  {
   "cell_type": "code",
   "execution_count": null,
   "id": "d05814e4",
   "metadata": {},
   "outputs": [],
   "source": []
  }
 ],
 "metadata": {
  "kernelspec": {
   "display_name": "Python 3 (ipykernel)",
   "language": "python",
   "name": "python3"
  },
  "language_info": {
   "codemirror_mode": {
    "name": "ipython",
    "version": 3
   },
   "file_extension": ".py",
   "mimetype": "text/x-python",
   "name": "python",
   "nbconvert_exporter": "python",
   "pygments_lexer": "ipython3",
   "version": "3.10.10"
  }
 },
 "nbformat": 4,
 "nbformat_minor": 5
}
