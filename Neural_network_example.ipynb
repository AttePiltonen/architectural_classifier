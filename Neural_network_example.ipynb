{
 "cells": [
  {
   "cell_type": "markdown",
   "id": "33e9f1e4",
   "metadata": {},
   "source": [
    "## Neural Network Classifier\n",
    "\n",
    "As a first go, let's create a simple neural network to see how well a traditional single-layer network performs. I will code this from scratch, using only the NumPy library to create the network functions and CV2 for image processing. Note that for image classification this is not the recommended approach, since convolutional neural networks (CNNs) usually outperform traditional neural networks in this context. However, coding this from scratch may be an interesting exercise, and will help us understand why CNNs are a better choice. "
   ]
  },
  {
   "cell_type": "code",
   "execution_count": null,
   "id": "916e4c0c",
   "metadata": {},
   "outputs": [],
   "source": []
  }
 ],
 "metadata": {
  "kernelspec": {
   "display_name": "Python 3 (ipykernel)",
   "language": "python",
   "name": "python3"
  },
  "language_info": {
   "codemirror_mode": {
    "name": "ipython",
    "version": 3
   },
   "file_extension": ".py",
   "mimetype": "text/x-python",
   "name": "python",
   "nbconvert_exporter": "python",
   "pygments_lexer": "ipython3",
   "version": "3.10.10"
  }
 },
 "nbformat": 4,
 "nbformat_minor": 5
}
